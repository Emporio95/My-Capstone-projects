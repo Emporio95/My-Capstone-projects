{
 "cells": [
  {
   "cell_type": "markdown",
   "id": "a7b4674e",
   "metadata": {},
   "source": [
    "Name: Abdoul Fall"
   ]
  },
  {
   "cell_type": "markdown",
   "id": "189ac07e",
   "metadata": {},
   "source": [
    "__SIMPLE GAME OF BATTLESHIP__"
   ]
  },
  {
   "cell_type": "markdown",
   "id": "53b89335",
   "metadata": {},
   "source": [
    "write the beginning of an implementation for a simple game of Battleship which meets the following criteria:\n",
    "- Each board can be instantiated with arbitrary dimensions.\n",
    "- Pieces can be placed on the board by specifying the piece, position, and orientation, but must stay within the boundaries of the board and cannot overlap other pieces in any way.\n",
    "- The implementation should calculate whether a shot taken at a given rank and file hits a placed piece by returning the string literal \"Hit\" or \"Miss\"."
   ]
  },
  {
   "cell_type": "markdown",
   "id": "89c2316b",
   "metadata": {},
   "source": [
    "The code below is an implementation a simple battleship game in which the user is given a board where they have to guess where four ramdomnly placed ships hidden in another board are located with 15 tries given to do so in order to beat the game. "
   ]
  },
  {
   "cell_type": "code",
   "execution_count": null,
   "id": "c00d313a",
   "metadata": {},
   "outputs": [
    {
     "name": "stdout",
     "output_type": "stream",
     "text": [
      "Sink the ships before your tries run out\n",
      "  1 2 3 4 5 6 7 8\n",
      "1 O O O O O O O O\n",
      "2 O O O O O O O O\n",
      "3 O O O O O O O O\n",
      "4 O O O O O O O O\n",
      "5 O O O O O O O O\n",
      "6 O O O O O O O O\n",
      "7 O O O O O O O O\n",
      "8 O O O O O O O O\n"
     ]
    }
   ],
   "source": [
    "from random import randint\n",
    "\n",
    "#create an 8x8 hidden board where the ships to shoot will be located\n",
    "hidden_board = [[\" \"] * 8 for x in range(8)]\n",
    "#create an 8*8 board for the player where hits and misses will be displayed as X and - respectively.\n",
    "my_board = [[\"O\"] * 8 for i in range(8)]\n",
    "\n",
    "#Print the board and the row number\n",
    "def board_layer(board):\n",
    "    print(\"  1 2 3 4 5 6 7 8\")\n",
    "    row_num = 1\n",
    "    for row in board:\n",
    "        print(row_num, \" \".join(row))\n",
    "        row_num += 1\n",
    "\n",
    "#print the column numbers\n",
    "col_num = {'1': 0,'2': 1,'3': 2,'4': 3,'5': 4,'6': 5,'7': 6,'8': 7}\n",
    "\n",
    "#Create 4 ships that will be randomly placed on the board that the player will have to guess to get their location \n",
    "#and if it's a hit, an X will be displayed. \n",
    "def ship_pieces(board):\n",
    "    for ship in range(4):\n",
    "        ship_row, ship_column = randint(0,7), randint(0,7)\n",
    "        while(board[ship_row][ship_column] == \"X\"):\n",
    "            ship_row, ship_column = ship_coordinate()\n",
    "        board[ship_row][ship_column] = \"X\"\n",
    "\n",
    "#Create an input asking the user to guess where a ship is located and enter an integer for the row and column \n",
    "def ship_coordinate():\n",
    "    row = input(\"Enter the row number of the ship: \")\n",
    "    while(row not in \"12345678\"):\n",
    "        print(\"ship row outside of the boundaries of the board, please try again \")\n",
    "        row = input(\"Enter the row number of the ship: \")\n",
    "    column = input(\"Enter the column number of the ship: \")\n",
    "    while(column not in \"12345678\"):\n",
    "        print(\"ship column outside of the boundaries of the board, please try again \")\n",
    "        column = input(\"Enter the column number of the ship: \")\n",
    "    return int(row) - 1, col_num[column]\n",
    "\n",
    "#Count the number of times a ship is hit\n",
    "def ship_hit(board):\n",
    "    count = 0\n",
    "    for row in board:\n",
    "        for column in row:\n",
    "            if(column == \"X\"):\n",
    "                count += 1\n",
    "    return count\n",
    "\n",
    "#create the condition in which a given number of tries is given to the player in order to guess where the 4 ships are. \n",
    "if __name__ == \"__main__\":\n",
    "    ship_pieces(hidden_board)\n",
    "    tries = 15\n",
    "    while(tries > 0):\n",
    "        print(\"Sink the ships before your tries run out\")\n",
    "        board_layer(my_board)\n",
    "        row, column = ship_coordinate()\n",
    "        #if the player's entered the same row and column coordinates, print a message. \n",
    "        if(my_board[row][column] == \"-\"):\n",
    "            print(\"Coordinates have already been entered, try entering different coordinates\")\n",
    "        #if the player hits a ship, an X is displayed and the \"Hit\" message is printed\n",
    "        elif(hidden_board[row][column] == \"X\"):\n",
    "            print(\"Hit\")\n",
    "            my_board[row][column] = \"X\" \n",
    "            tries -= 1  \n",
    "        #if none of the conditions set previously are met, then the guess made is incorrect, an - is printed on the board\n",
    "        #and a \"Miss\" message is printed as well\n",
    "        else:\n",
    "            print(\"Miss\")\n",
    "            my_board[row][column] = \"-\"   \n",
    "            tries -= 1  \n",
    "        #if the player is ablle to guess the right coordinates of all 4 ships, the game has been beat\n",
    "        #a message is printed and the condition is terminated. \n",
    "        if(ship_hit(my_board) == 4):\n",
    "            print(\"You have hit all four ships, CONGRATULATIONS! You have beat the game\")\n",
    "            break\n",
    "        #print the number of tries remaining and if it reaches 0, then the game is over. \n",
    "        print(str(tries) + \" tries remaining\")\n",
    "        if(tries == 0):\n",
    "            print(\"You have exhausted all your tries, GAME OVER!\")"
   ]
  },
  {
   "cell_type": "code",
   "execution_count": null,
   "id": "f49dfe25",
   "metadata": {},
   "outputs": [],
   "source": []
  }
 ],
 "metadata": {
  "kernelspec": {
   "display_name": "Python 3 (ipykernel)",
   "language": "python",
   "name": "python3"
  },
  "language_info": {
   "codemirror_mode": {
    "name": "ipython",
    "version": 3
   },
   "file_extension": ".py",
   "mimetype": "text/x-python",
   "name": "python",
   "nbconvert_exporter": "python",
   "pygments_lexer": "ipython3",
   "version": "3.9.12"
  }
 },
 "nbformat": 4,
 "nbformat_minor": 5
}
